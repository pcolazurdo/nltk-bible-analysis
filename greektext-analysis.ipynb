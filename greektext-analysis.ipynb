{
 "cells": [
  {
   "cell_type": "code",
   "execution_count": 35,
   "metadata": {},
   "outputs": [
    {
     "name": "stdout",
     "output_type": "stream",
     "text": [
      "env: STRONG_ID=3466\n",
      "1CO 2:7 , 1CO 4:1 , 1CO 13:2 , 1CO 14:2 , 1TI 3:16 , COL 1:27 , COL 2:2 , COL 4:3 , EPH 1:9 , EPH 3:3 , EPH 3:4 , EPH 3:9 , EPH 6:19 , LU 8:10 , MR 4:11 , MT 13:11 , RE 10:7 , RE 17:5 , RE 17:7 , RO 11:25 , RO 16:25 \r\n"
     ]
    }
   ],
   "source": [
    "# Example: Seal: sfragij / http://www.godrules.net/library/strongs2b/gre4973.htm \n",
    "%set_env STRONG_ID=3466\n",
    "# !grep -C3 \" ${STRONG_ID}\" data/greektext-textus-receptus/parsed/*\n",
    "!grep  \" ${STRONG_ID}\" output.txt | cut -d\\| -f1 | awk -v RS='' '{gsub(\"\\n\", \", \"); print}' "
   ]
  },
  {
   "cell_type": "code",
   "execution_count": 36,
   "metadata": {},
   "outputs": [
    {
     "name": "stdout",
     "output_type": "stream",
     "text": [
      "6 data/greektext-textus-receptus/parsed/EPH.UTR\r\n",
      "5 data/greektext-textus-receptus/parsed/1CO.UTR\r\n",
      "4 data/greektext-textus-receptus/parsed/RE.UTR\r\n",
      "4 data/greektext-textus-receptus/parsed/COL.UTR\r\n",
      "2 data/greektext-textus-receptus/parsed/RO.UTR\r\n",
      "2 data/greektext-textus-receptus/parsed/1TI.UTR\r\n",
      "1 data/greektext-textus-receptus/parsed/MT.UTR\r\n",
      "1 data/greektext-textus-receptus/parsed/MR.UTR\r\n",
      "1 data/greektext-textus-receptus/parsed/LU.UTR\r\n",
      "1 data/greektext-textus-receptus/parsed/2TH.UTR\r\n"
     ]
    }
   ],
   "source": [
    "!grep -c \" ${STRONG_ID}\" data/greektext-textus-receptus/parsed/* | grep -v \":0\" | awk 'BEGIN { FS = \":\" } ; { print $2, $1 }' | sort -hr "
   ]
  },
  {
   "cell_type": "code",
   "execution_count": null,
   "metadata": {},
   "outputs": [],
   "source": []
  }
 ],
 "metadata": {
  "kernelspec": {
   "display_name": "Python 3",
   "language": "python",
   "name": "python3"
  },
  "language_info": {
   "codemirror_mode": {
    "name": "ipython",
    "version": 3
   },
   "file_extension": ".py",
   "mimetype": "text/x-python",
   "name": "python",
   "nbconvert_exporter": "python",
   "pygments_lexer": "ipython3",
   "version": "3.6.9"
  }
 },
 "nbformat": 4,
 "nbformat_minor": 4
}
