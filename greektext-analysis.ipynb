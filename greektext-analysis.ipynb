{
 "cells": [
  {
   "cell_type": "code",
   "execution_count": 16,
   "metadata": {},
   "outputs": [
    {
     "name": "stdout",
     "output_type": "stream",
     "text": [
      "env: STRONG_ID=3528\n",
      "data/greektext-textus-receptus/parsed/1JO.UTR: 3528 5758 {V-RAI-2P} ton 3588 {T-ASM} ponhron 4190 {A-ASM} grafw\n",
      "data/greektext-textus-receptus/parsed/1JO.UTR: {CONJ} nenikhkate 3528 5758 {V-RAI-2P} ton 3588 {T-ASM} ponhron 4190\n",
      "data/greektext-textus-receptus/parsed/1JO.UTR: {CONJ} nenikhkate 3528 5758 {V-RAI-2P} autouv 846 {P-APM} oti 3754\n",
      "data/greektext-textus-receptus/parsed/1JO.UTR: {N-GSM} nika 3528 5719 {V-PAI-3S} ton 3588 {T-ASM} kosmon 2889\n",
      "data/greektext-textus-receptus/parsed/1JO.UTR: h 3588 {T-NSF} nikh 3529 {N-NSF} h 3588 {T-NSF} nikhsasa 3528 5660\n",
      "data/greektext-textus-receptus/parsed/1JO.UTR: 3528 5723 {V-PAP-NSM} ton 3588 {T-ASM} kosmon 2889 {N-ASM} ei 1487\n",
      "data/greektext-textus-receptus/parsed/JOH.UTR: 2293 5720 {V-PAM-2P} egw 1473 {P-1NS} nenikhka 3528 5758 {V-RAI-1S}\n",
      "data/greektext-textus-receptus/parsed/LU.UTR: 3528 5661 {V-AAS-3S} auton 846 {P-ASM} thn 3588 {T-ASF} panoplian\n",
      "data/greektext-textus-receptus/parsed/RE.UTR: 1577 {N-DPF} tw 3588 {T-DSM} nikwnti 3528 5723 {V-PAP-DSM} dwsw 1325\n",
      "data/greektext-textus-receptus/parsed/RE.UTR: 1577 {N-DPF} o 3588 {T-NSM} nikwn 3528 5723 {V-PAP-NSM} ou 3756\n",
      "data/greektext-textus-receptus/parsed/RE.UTR: 1577 {N-DPF} tw 3588 {T-DSM} nikwnti 3528 5723 {V-PAP-DSM} dwsw 1325\n",
      "data/greektext-textus-receptus/parsed/RE.UTR:2:26 kai 2532 {CONJ} o 3588 {T-NSM} nikwn 3528 5723 {V-PAP-NSM} kai\n",
      "data/greektext-textus-receptus/parsed/RE.UTR:3:5 o 3588 {T-NSM} nikwn 3528 5723 {V-PAP-NSM} outov 3778 {D-NSM}\n",
      "data/greektext-textus-receptus/parsed/RE.UTR:3:12 o 3588 {T-NSM} nikwn 3528 5723 {V-PAP-NSM} poihsw 4160 5692\n",
      "data/greektext-textus-receptus/parsed/RE.UTR:3:21 o 3588 {T-NSM} nikwn 3528 5723 {V-PAP-NSM} dwsw 1325 5692\n",
      "data/greektext-textus-receptus/parsed/RE.UTR: 3528 5656 {V-AAI-1S} kai 2532 {CONJ} ekaqisa 2523 5656 {V-AAI-1S}\n",
      "data/greektext-textus-receptus/parsed/RE.UTR: {V-2AMM-2S} enikhsen 3528 5656 {V-AAI-3S} o 3588 {T-NSM} lewn 3023\n",
      "data/greektext-textus-receptus/parsed/RE.UTR: nikwn 3528 5723 {V-PAP-NSM} kai 2532 {CONJ} ina 2443 {CONJ} nikhsh\n",
      "data/greektext-textus-receptus/parsed/RE.UTR: 3528 5661 {V-AAS-3S}\n",
      "data/greektext-textus-receptus/parsed/RE.UTR: autwn 846 {P-GPM} kai 2532 {CONJ} nikhsei 3528 5692 {V-FAI-3S}\n",
      "data/greektext-textus-receptus/parsed/RE.UTR:12:11 kai 2532 {CONJ} autoi 846 {P-NPM} enikhsan 3528 5656 {V-AAI-3P}\n",
      "data/greektext-textus-receptus/parsed/RE.UTR: 3588 {T-GPM} agiwn 40 {A-GPM} kai 2532 {CONJ} nikhsai 3528 5658\n",
      "data/greektext-textus-receptus/parsed/RE.UTR: nikwntav 3528 5723 {V-PAP-APM} ek 1537 {PREP} tou 3588 {T-GSN}\n",
      "data/greektext-textus-receptus/parsed/RE.UTR: {T-NSN} arnion 721 {N-NSN} nikhsei 3528 5692 {V-FAI-3S} autouv 846\n",
      "data/greektext-textus-receptus/parsed/RE.UTR:21:7 o 3588 {T-NSM} nikwn 3528 5723 {V-PAP-NSM} klhronomhsei 2816\n",
      "data/greektext-textus-receptus/parsed/RO.UTR: 2532 {CONJ} nikhshv 3528 5661 {V-AAS-2S} en 1722 {PREP} tw 3588\n",
      "data/greektext-textus-receptus/parsed/RO.UTR:12:21 mh 3361 {PRT-N} nikw 3528 5744 {V-PPM-2S} upo 5259 {PREP} tou\n",
      "data/greektext-textus-receptus/parsed/RO.UTR: 3588 {T-GSN} kakou 2556 {A-GSN} alla 235 {CONJ} nika 3528 5720\n",
      "1 data/greektext-textus-receptus/parsed/JOH.UTR\n",
      "1 data/greektext-textus-receptus/parsed/LU.UTR\n",
      "3 data/greektext-textus-receptus/parsed/RO.UTR\n",
      "6 data/greektext-textus-receptus/parsed/1JO.UTR\n",
      "17 data/greektext-textus-receptus/parsed/RE.UTR\n"
     ]
    }
   ],
   "source": [
    "%set_env STRONG_ID=3528 \n",
    "!STRONG_ID=3528 grep ${STRONG_ID} data/greektext-textus-receptus/parsed/*"
   ]
  },
  {
   "cell_type": "code",
   "execution_count": 17,
   "metadata": {},
   "outputs": [
    {
     "name": "stdout",
     "output_type": "stream",
     "text": [
      "1 data/greektext-textus-receptus/parsed/JOH.UTR\r\n",
      "1 data/greektext-textus-receptus/parsed/LU.UTR\r\n",
      "3 data/greektext-textus-receptus/parsed/RO.UTR\r\n",
      "6 data/greektext-textus-receptus/parsed/1JO.UTR\r\n",
      "17 data/greektext-textus-receptus/parsed/RE.UTR\r\n"
     ]
    }
   ],
   "source": [
    "!STRONG_ID=3528 grep -c ${STRONG_ID} data/greektext-textus-receptus/parsed/* | grep -v \":0\" | awk 'BEGIN { FS = \":\" } ; { print $2, $1 }' | sort -h"
   ]
  },
  {
   "cell_type": "code",
   "execution_count": null,
   "metadata": {},
   "outputs": [],
   "source": []
  }
 ],
 "metadata": {
  "kernelspec": {
   "display_name": "Python 3",
   "language": "python",
   "name": "python3"
  },
  "language_info": {
   "codemirror_mode": {
    "name": "ipython",
    "version": 3
   },
   "file_extension": ".py",
   "mimetype": "text/x-python",
   "name": "python",
   "nbconvert_exporter": "python",
   "pygments_lexer": "ipython3",
   "version": "3.6.9"
  }
 },
 "nbformat": 4,
 "nbformat_minor": 4
}
